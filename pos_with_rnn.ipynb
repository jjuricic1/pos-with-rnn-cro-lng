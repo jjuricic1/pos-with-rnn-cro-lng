{
  "nbformat": 4,
  "nbformat_minor": 0,
  "metadata": {
    "colab": {
      "name": "pos-with-rnn.ipynb",
      "provenance": [],
      "collapsed_sections": [
        "YkV-MXtts93a",
        "TXX2ZzOXRmZZ",
        "LSf7w53HRqBY",
        "OprJdSmdL2zb",
        "QoUUfn_pMoqM",
        "GlIba7NHMv_P",
        "kiAqgkKWWOFH",
        "LyuU4T_jamwt",
        "5-gnYFukSzUU",
        "fJ866l5vS3us",
        "gh77-t4oS-6A",
        "DwoKHtd1THNU",
        "H9uDIeI6YjQ-",
        "Z7lg-yucYwXA",
        "3PjjH51fY7Vl",
        "eK0lGhfKZGDU"
      ]
    },
    "kernelspec": {
      "name": "python3",
      "display_name": "Python 3"
    },
    "language_info": {
      "name": "python"
    },
    "accelerator": "GPU"
  },
  "cells": [
    {
      "cell_type": "markdown",
      "source": [
        "# **POS označavanje uz primjenu neuronskih mreža**"
      ],
      "metadata": {
        "id": "sZ0TDhjR1AjC"
      }
    },
    {
      "cell_type": "markdown",
      "source": [
        "#### import potrebnih biblioteka/metoda"
      ],
      "metadata": {
        "id": "YkV-MXtts93a"
      }
    },
    {
      "cell_type": "code",
      "source": [
        "!pip install conllu datasets nltk gensim &> /dev/null"
      ],
      "metadata": {
        "id": "GKPoYIIWIvsL"
      },
      "execution_count": null,
      "outputs": []
    },
    {
      "cell_type": "code",
      "source": [
        "import numpy as np\n",
        "import tensorflow as tf\n",
        "from matplotlib import pyplot as plt\n",
        "\n",
        "from keras.preprocessing.text import Tokenizer\n",
        "from sklearn.model_selection import train_test_split\n",
        "from tensorflow.keras.models import Sequential\n",
        "from keras.preprocessing.sequence import pad_sequences\n",
        "from tensorflow.keras.utils import to_categorical\n",
        "from tensorflow.keras.layers import SimpleRNN, LSTM, GRU, Bidirectional\n",
        "from tensorflow.keras.layers import Dense, Embedding, TimeDistributed"
      ],
      "metadata": {
        "id": "BWjP94B6M89B"
      },
      "execution_count": null,
      "outputs": []
    },
    {
      "cell_type": "code",
      "source": [
        "from io import open\n",
        "from conllu import parse_incr\n",
        "from google.colab import files"
      ],
      "metadata": {
        "id": "-w1koqkuIv1R"
      },
      "execution_count": null,
      "outputs": []
    },
    {
      "cell_type": "code",
      "source": [
        "import gensim\n",
        "from gensim.models import Word2Vec, KeyedVectors"
      ],
      "metadata": {
        "id": "bCb8vo_usjaR"
      },
      "execution_count": null,
      "outputs": []
    },
    {
      "cell_type": "markdown",
      "source": [
        "## **POS označavanje** (*eng.* POS - *part of speech* - tagging)"
      ],
      "metadata": {
        "id": "FrpNECBizZsa"
      }
    },
    {
      "cell_type": "markdown",
      "source": [
        "> **POS označavanje** ( označavanje dijelova govora) postupak je za označavanje riječi u tekstualnom formatu za određeni dio govora na temelju njegove definicije i konteksta. Odgovorno je za čitanje teksta na jeziku i za dodjeljivanje određenog znaka (dijelovi govora) svakoj riječi. Naziva se i gramatičkim označavanjem. (izvor: https://hr.csstricks.net/8226566-pos-tagging-with-nltk-and-chunking-in-nlp-examples)"
      ],
      "metadata": {
        "id": "vi1DLlFxzxuU"
      }
    },
    {
      "cell_type": "markdown",
      "source": [
        "![picture](https://drive.google.com/uc?id=19zcwHN45Iwc7tLHiiOHkALCpN5sZ4okD)"
      ],
      "metadata": {
        "id": "QIbDwCgU0DpY"
      }
    },
    {
      "cell_type": "markdown",
      "source": [
        "### **hr500k** - *korpus sa POS oznakama hrvatskog jezika*"
      ],
      "metadata": {
        "id": "TXX2ZzOXRmZZ"
      }
    },
    {
      "cell_type": "markdown",
      "source": [
        "> Ljubešić, N., Agić, Z., & Klubicka, F. (2018). hr500k -A Reference Training Corpus of Croatian. hr500k -A Reference Training Corpus of Croatian (pp. 20–21). https://arrow.tudublin.ie/cgi/viewcontent.cgi?article=1254&context=scschcomcon\n",
        "\n",
        "> **hr500k:** hrvatski referentni korpus za treniranje od 500 tisuća tokena, segmentiran na razini dokumenta, rečenice i riječi, te označen za morfosintaksu, leme, sintaksu ovisnosti, imenovane entitete i semantičke uloge\n",
        "\n",
        "> korpus je dostupan u ***CoNLL*** formatu datoteke"
      ],
      "metadata": {
        "id": "5syQ4PoY2LAR"
      }
    },
    {
      "cell_type": "markdown",
      "source": [
        "## **Analiza i predprocesiranje skupa podataka**"
      ],
      "metadata": {
        "id": "LSf7w53HRqBY"
      }
    },
    {
      "cell_type": "markdown",
      "source": [
        "### Učitavanje podataka korpusa za treniranje"
      ],
      "metadata": {
        "id": "lW_hACZh7FBY"
      }
    },
    {
      "cell_type": "code",
      "execution_count": null,
      "metadata": {
        "id": "1CoVcS1ePF-X",
        "colab": {
          "resources": {
            "http://localhost:8080/nbextensions/google.colab/files.js": {
              "data": "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",
              "ok": true,
              "headers": [
                [
                  "content-type",
                  "application/javascript"
                ]
              ],
              "status": 200,
              "status_text": ""
            }
          },
          "base_uri": "https://localhost:8080/",
          "height": 195
        },
        "outputId": "a04baa9c-964c-45fb-9bb1-7e79088fa572"
      },
      "outputs": [
        {
          "output_type": "display_data",
          "data": {
            "text/plain": [
              "<IPython.core.display.HTML object>"
            ],
            "text/html": [
              "\n",
              "     <input type=\"file\" id=\"files-dcab3c83-b767-4075-97ac-bb5f9212a91a\" name=\"files[]\" multiple disabled\n",
              "        style=\"border:none\" />\n",
              "     <output id=\"result-dcab3c83-b767-4075-97ac-bb5f9212a91a\">\n",
              "      Upload widget is only available when the cell has been executed in the\n",
              "      current browser session. Please rerun this cell to enable.\n",
              "      </output>\n",
              "      <script src=\"/nbextensions/google.colab/files.js\"></script> "
            ]
          },
          "metadata": {}
        },
        {
          "output_type": "stream",
          "name": "stdout",
          "text": [
            "Saving dev_ner.conllu to dev_ner.conllu\n",
            "Saving test_ner.conllu to test_ner.conllu\n",
            "Saving train_ner.conllu to train_ner (1).conllu\n",
            "User uploaded file \"dev_ner.conllu\" with length 2815750 bytes\n",
            "User uploaded file \"test_ner.conllu\" with length 3583483 bytes\n",
            "User uploaded file \"train_ner.conllu\" with length 29413848 bytes\n"
          ]
        }
      ],
      "source": [
        "# Import data from local computor\n",
        "\n",
        "uploaded = files.upload()\n",
        "\n",
        "for fn in uploaded.keys():\n",
        "  print('User uploaded file \"{name}\" with length {length} bytes'.format(\n",
        "      name=fn, length=len(uploaded[fn])))"
      ]
    },
    {
      "cell_type": "markdown",
      "source": [
        "> primjer izgleda podataka za jednu rečenicu iz korpusa: \n",
        "\n",
        "\n",
        "![picture](https://drive.google.com/uc?id=1XeKiJqPpZtlCc0lS7tewMRjcE3iS7iOt)\n"
      ],
      "metadata": {
        "id": "vWOlZfGjxSpP"
      }
    },
    {
      "cell_type": "code",
      "source": [
        "def read_data(path):\n",
        "  with open(path, \"r\", encoding='utf-8') as f:\n",
        "    sent_id = ''\n",
        "    text = ''\n",
        "    tokens = []\n",
        "    lemmas = []\n",
        "    xpos_tags = []\n",
        "    upos_tags = []\n",
        "    feats = []\n",
        "    iob_tags = []\n",
        "    data_id = 0\n",
        "    for line in f:\n",
        "      if line and not line == '\\n':\n",
        "        if line.startswith('#'):\n",
        "          if line.startswith('# sent_id'):\n",
        "            if tokens:\n",
        "              yield {\n",
        "                  'sent_id': sent_id,\n",
        "                  'text': text,\n",
        "                  'tokens': tokens,\n",
        "                  'lemmas': lemmas,\n",
        "                  'upos_tags': upos_tags,\n",
        "                  'xpos_tags': xpos_tags,\n",
        "                  'feats': feats,\n",
        "                  'iob_tags': iob_tags \n",
        "                  }\n",
        "              tokens = []\n",
        "              lemmas = []\n",
        "              upos_tags = []\n",
        "              xpos_tags = []\n",
        "              feats = []\n",
        "              iob_tags = []\n",
        "              data_id += 1\n",
        "            sent_id = line.split(' = ')[1].strip()\n",
        "          elif line.startswith('# text'):\n",
        "            text = line.split(' = ')[1].strip()\n",
        "        elif not line.startswith('_'):\n",
        "          splits = line.split('\\t')\n",
        "          tokens.append(splits[1].strip())\n",
        "          lemmas.append(splits[2].strip())\n",
        "          upos_tags.append(splits[3].strip())\n",
        "          xpos_tags.append(splits[4].strip())\n",
        "          feats.append(splits[5].strip())\n",
        "          iob_tags.append(splits[9].strip())\n",
        "\n",
        "    yield {\n",
        "        'sent_id': sent_id,\n",
        "        'text': text,\n",
        "        'tokens': tokens,\n",
        "        'lemmas': lemmas,\n",
        "        'upos_tags': upos_tags,\n",
        "        'xpos_tags': xpos_tags,\n",
        "        'feats': feats,\n",
        "        'iob_tags': iob_tags\n",
        "        }\n"
      ],
      "metadata": {
        "id": "O2O1fW1FIv5F"
      },
      "execution_count": null,
      "outputs": []
    },
    {
      "cell_type": "code",
      "source": [
        "data = read_data(\"train_ner.conllu\")\n",
        "for i in range(5):\n",
        "  d = next(data)\n",
        "  print(d)"
      ],
      "metadata": {
        "colab": {
          "base_uri": "https://localhost:8080/"
        },
        "id": "U0EGcz9wvbG1",
        "outputId": "b3aec7c9-8f89-4661-958c-6013d366f76d"
      },
      "execution_count": null,
      "outputs": [
        {
          "output_type": "stream",
          "name": "stdout",
          "text": [
            "{'sent_id': 'train-s1', 'text': 'Proces privatizacije na Kosovu pod povećalom', 'tokens': ['Proces', 'privatizacije', 'na', 'Kosovu', 'pod', 'povećalom'], 'lemmas': ['proces', 'privatizacija', 'na', 'Kosovo', 'pod', 'povećalo'], 'upos_tags': ['NOUN', 'NOUN', 'ADP', 'PROPN', 'ADP', 'NOUN'], 'xpos_tags': ['Ncmsn', 'Ncfsg', 'Sl', 'Npnsl', 'Si', 'Ncnsi'], 'feats': ['Case=Nom|Gender=Masc|Number=Sing', 'Case=Gen|Gender=Fem|Number=Sing', 'Case=Loc', 'Case=Loc|Gender=Neut|Number=Sing', 'Case=Ins', 'Case=Ins|Gender=Neut|Number=Sing'], 'iob_tags': ['O', 'O', 'O', 'B-loc', 'O', 'O']}\n",
            "{'sent_id': 'train-s2', 'text': 'Kosovo ozbiljno analizira proces privatizacije u svjetlu učestalih pritužbi.', 'tokens': ['Kosovo', 'ozbiljno', 'analizira', 'proces', 'privatizacije', 'u', 'svjetlu', 'učestalih', 'pritužbi', '.'], 'lemmas': ['Kosovo', 'ozbiljno', 'analizirati', 'proces', 'privatizacija', 'u', 'svjetlo', 'učestao', 'pritužba', '.'], 'upos_tags': ['PROPN', 'ADV', 'VERB', 'NOUN', 'NOUN', 'ADP', 'NOUN', 'ADJ', 'NOUN', 'PUNCT'], 'xpos_tags': ['Npnsn', 'Rgp', 'Vmr3s', 'Ncmsan', 'Ncfsg', 'Sl', 'Ncnsl', 'Agpfpgy', 'Ncfpg', 'Z'], 'feats': ['Case=Nom|Gender=Neut|Number=Sing', 'Degree=Pos', 'Mood=Ind|Number=Sing|Person=3|Tense=Pres|VerbForm=Fin', 'Animacy=Inan|Case=Acc|Gender=Masc|Number=Sing', 'Case=Gen|Gender=Fem|Number=Sing', 'Case=Loc', 'Case=Loc|Gender=Neut|Number=Sing', 'Case=Gen|Definite=Def|Degree=Pos|Gender=Fem|Number=Plur', 'Case=Gen|Gender=Fem|Number=Plur', '_'], 'iob_tags': ['B-loc', 'O', 'O', 'O', 'O', 'O', 'O', 'O', 'O', 'O']}\n",
            "{'sent_id': 'train-s3', 'text': 'Barem na papiru, izgleda kao odlična ideja.', 'tokens': ['Barem', 'na', 'papiru', ',', 'izgleda', 'kao', 'odlična', 'ideja', '.'], 'lemmas': ['barem', 'na', 'papir', ',', 'izgledati', 'kao', 'odličan', 'ideja', '.'], 'upos_tags': ['PART', 'ADP', 'NOUN', 'PUNCT', 'VERB', 'SCONJ', 'ADJ', 'NOUN', 'PUNCT'], 'xpos_tags': ['Qo', 'Sl', 'Ncmsl', 'Z', 'Vmr3s', 'Cs', 'Agpfsny', 'Ncfsn', 'Z'], 'feats': ['_', 'Case=Loc', 'Case=Loc|Gender=Masc|Number=Sing', '_', 'Mood=Ind|Number=Sing|Person=3|Tense=Pres|VerbForm=Fin', '_', 'Case=Nom|Definite=Def|Degree=Pos|Gender=Fem|Number=Sing', 'Case=Nom|Gender=Fem|Number=Sing', '_'], 'iob_tags': ['O', 'O', 'O', 'O', 'O', 'O', 'O', 'O', 'O']}\n",
            "{'sent_id': 'train-s4', 'text': 'Vlada prodaje poduzeća, rješava se opterećenja njihovog upravljanja, a novac od prodaje pomaže punjenju državnog proračuna.', 'tokens': ['Vlada', 'prodaje', 'poduzeća', ',', 'rješava', 'se', 'opterećenja', 'njihovog', 'upravljanja', ',', 'a', 'novac', 'od', 'prodaje', 'pomaže', 'punjenju', 'državnog', 'proračuna', '.'], 'lemmas': ['Vlada', 'prodavati', 'poduzeće', ',', 'rješavati', 'sebe', 'opterećenje', 'njihov', 'upravljanje', ',', 'a', 'novac', 'od', 'prodaja', 'pomagati', 'punjenje', 'državni', 'proračun', '.'], 'upos_tags': ['PROPN', 'VERB', 'NOUN', 'PUNCT', 'VERB', 'PRON', 'NOUN', 'DET', 'NOUN', 'PUNCT', 'CCONJ', 'NOUN', 'ADP', 'NOUN', 'VERB', 'NOUN', 'ADJ', 'NOUN', 'PUNCT'], 'xpos_tags': ['Npfsn', 'Vmr3s', 'Ncnpa', 'Z', 'Vmr3s', 'Px--sa', 'Ncnsg', 'Ps3nsg', 'Ncnsg', 'Z', 'Cc', 'Ncmsn', 'Sg', 'Ncfsg', 'Vmr3s', 'Ncnsd', 'Agpmsgy', 'Ncmsg', 'Z'], 'feats': ['Case=Nom|Gender=Fem|Number=Sing', 'Mood=Ind|Number=Sing|Person=3|Tense=Pres|VerbForm=Fin', 'Case=Acc|Gender=Neut|Number=Plur', '_', 'Mood=Ind|Number=Sing|Person=3|Tense=Pres|VerbForm=Fin', 'Case=Acc|PronType=Prs|Reflex=Yes', 'Case=Gen|Gender=Neut|Number=Sing', 'Case=Gen|Gender=Neut|Number=Sing|Number[psor]=Plur|Person=3|Poss=Yes|PronType=Prs', 'Case=Gen|Gender=Neut|Number=Sing', '_', '_', 'Case=Nom|Gender=Masc|Number=Sing', 'Case=Gen', 'Case=Gen|Gender=Fem|Number=Sing', 'Mood=Ind|Number=Sing|Person=3|Tense=Pres|VerbForm=Fin', 'Case=Dat|Gender=Neut|Number=Sing', 'Case=Gen|Definite=Def|Degree=Pos|Gender=Masc|Number=Sing', 'Case=Gen|Gender=Masc|Number=Sing', '_'], 'iob_tags': ['O', 'O', 'O', 'O', 'O', 'O', 'O', 'O', 'O', 'O', 'O', 'O', 'O', 'O', 'O', 'O', 'O', 'O', 'O']}\n",
            "{'sent_id': 'train-s5', 'text': 'Ali na Kosovu, kritičari kažu da je pravni proces koji se odnosi na privatizaciju složen i politički naelektriziran, što ima dugoročan utjecaj na gospodarstvo.', 'tokens': ['Ali', 'na', 'Kosovu', ',', 'kritičari', 'kažu', 'da', 'je', 'pravni', 'proces', 'koji', 'se', 'odnosi', 'na', 'privatizaciju', 'složen', 'i', 'politički', 'naelektriziran', ',', 'što', 'ima', 'dugoročan', 'utjecaj', 'na', 'gospodarstvo', '.'], 'lemmas': ['ali', 'na', 'Kosovo', ',', 'kritičar', 'kazati', 'da', 'biti', 'pravni', 'proces', 'koji', 'sebe', 'odnositi', 'na', 'privatizacija', 'složen', 'i', 'politički', 'naelektriziran', ',', 'što', 'imati', 'dugoročan', 'utjecaj', 'na', 'gospodarstvo', '.'], 'upos_tags': ['CCONJ', 'ADP', 'PROPN', 'PUNCT', 'NOUN', 'VERB', 'SCONJ', 'AUX', 'ADJ', 'NOUN', 'DET', 'PRON', 'VERB', 'ADP', 'NOUN', 'ADJ', 'CCONJ', 'ADV', 'ADJ', 'PUNCT', 'PRON', 'VERB', 'ADJ', 'NOUN', 'ADP', 'NOUN', 'PUNCT'], 'xpos_tags': ['Cc', 'Sl', 'Npnsl', 'Z', 'Ncmpn', 'Vmr3p', 'Cs', 'Var3s', 'Agpmsny', 'Ncmsn', 'Pi-msn', 'Px--sa', 'Vmr3s', 'Sa', 'Ncfsa', 'Agpmsnn', 'Cc', 'Rgp', 'Agpmsnn', 'Z', 'Pi3n-n', 'Vmr3s', 'Agpmsann', 'Ncmsan', 'Sa', 'Ncnsa', 'Z'], 'feats': ['_', 'Case=Loc', 'Case=Loc|Gender=Neut|Number=Sing', '_', 'Case=Nom|Gender=Masc|Number=Plur', 'Mood=Ind|Number=Plur|Person=3|Tense=Pres|VerbForm=Fin', '_', 'Mood=Ind|Number=Sing|Person=3|Tense=Pres|VerbForm=Fin', 'Case=Nom|Definite=Def|Degree=Pos|Gender=Masc|Number=Sing', 'Case=Nom|Gender=Masc|Number=Sing', 'Case=Nom|Gender=Masc|Number=Sing|PronType=Int,Rel', 'Case=Acc|PronType=Prs|Reflex=Yes', 'Mood=Ind|Number=Sing|Person=3|Tense=Pres|VerbForm=Fin', 'Case=Acc', 'Case=Acc|Gender=Fem|Number=Sing', 'Case=Nom|Definite=Ind|Degree=Pos|Gender=Masc|Number=Sing', '_', 'Degree=Pos', 'Case=Nom|Definite=Ind|Degree=Pos|Gender=Masc|Number=Sing', '_', 'Case=Nom|Gender=Neut|PronType=Int,Rel', 'Mood=Ind|Number=Sing|Person=3|Tense=Pres|VerbForm=Fin', 'Animacy=Inan|Case=Acc|Definite=Ind|Degree=Pos|Gender=Masc|Number=Sing', 'Animacy=Inan|Case=Acc|Gender=Masc|Number=Sing', 'Case=Acc', 'Case=Acc|Gender=Neut|Number=Sing', '_'], 'iob_tags': ['O', 'O', 'B-loc', 'O', 'O', 'O', 'O', 'O', 'O', 'O', 'O', 'O', 'O', 'O', 'O', 'O', 'O', 'O', 'O', 'O', 'O', 'O', 'O', 'O', 'O', 'O', 'O']}\n"
          ]
        }
      ]
    },
    {
      "cell_type": "code",
      "source": [
        "data = read_data(\"train_ner.conllu\")"
      ],
      "metadata": {
        "id": "cuF5LIvhIv8L"
      },
      "execution_count": null,
      "outputs": []
    },
    {
      "cell_type": "code",
      "source": [
        "X = [] # tokens\n",
        "Y = [] # pos tags\n",
        "F = [] # features\n",
        "for d in data:\n",
        "    X.append(d[\"tokens\"])\n",
        "    Y.append(d['upos_tags'])\n",
        "    F.append(d['feats'])"
      ],
      "metadata": {
        "id": "KCpjA6AhIv--"
      },
      "execution_count": null,
      "outputs": []
    },
    {
      "cell_type": "code",
      "source": [
        "tags = set([word.lower() for sentence in Y for word in sentence])\n",
        "num_tags  = len(tags)\n",
        "num_words = len(set([word.lower() for sentence in X for word in sentence]))"
      ],
      "metadata": {
        "id": "MFsWzoysK5sD"
      },
      "execution_count": null,
      "outputs": []
    },
    {
      "cell_type": "code",
      "source": [
        "print(\"Ukupan broj označenih rečenica: {}\".format(len(X)))\n",
        "print(\"Veličina rječnika: {} riječi\".format(num_words))\n",
        "print(\"\\nUkupan broj oznaka (eng. tags): {} \\nOznake:\".format(num_tags))\n",
        "for tag in tags:\n",
        "    print(tag, end=', ')"
      ],
      "metadata": {
        "id": "IK4mAsocK5u8",
        "colab": {
          "base_uri": "https://localhost:8080/"
        },
        "outputId": "58f78da1-82e5-4376-96b3-48d99e7518ac"
      },
      "execution_count": null,
      "outputs": [
        {
          "output_type": "stream",
          "name": "stdout",
          "text": [
            "Ukupan broj označenih rečenica: 20159\n",
            "Veličina rječnika: 59297 riječi\n",
            "\n",
            "Ukupan broj oznaka (eng. tags): 17 \n",
            "Oznake:\n",
            "num, pron, cconj, adv, det, noun, intj, x, verb, punct, adj, propn, adp, aux, part, sym, sconj, "
          ]
        }
      ]
    },
    {
      "cell_type": "code",
      "source": [
        "print(\"Length of first input sequence : {}\".format(len(X[0])))\n",
        "print(\"Length of first output sequence : {}\".format(len(Y[0])))"
      ],
      "metadata": {
        "colab": {
          "base_uri": "https://localhost:8080/"
        },
        "id": "Tpm3iLgPK50Q",
        "outputId": "a6cc52e2-215a-4241-c427-bb2bea887ed6"
      },
      "execution_count": null,
      "outputs": [
        {
          "output_type": "stream",
          "name": "stdout",
          "text": [
            "Length of first input sequence : 6\n",
            "Length of first output sequence : 6\n"
          ]
        }
      ]
    },
    {
      "cell_type": "markdown",
      "source": [
        "### Vektorizacija skupova **X** (tokens) i **Y**(tags) ( word to integer )"
      ],
      "metadata": {
        "id": "OprJdSmdL2zb"
      }
    },
    {
      "cell_type": "code",
      "source": [
        "# encode X\n",
        "word_tokenizer = Tokenizer()              # instantiate tokeniser\n",
        "word_tokenizer.fit_on_texts(X)            # fit tokeniser on data\n",
        "\n",
        "# use the tokeniser to encode input sequence\n",
        "X_encoded = word_tokenizer.texts_to_sequences(X)"
      ],
      "metadata": {
        "id": "-kCSqviJLI-t"
      },
      "execution_count": null,
      "outputs": []
    },
    {
      "cell_type": "code",
      "source": [
        "# encode Y\n",
        "tag_tokenizer = Tokenizer()               # instantiate tokeniser\n",
        "tag_tokenizer.fit_on_texts(Y)             # fit tokeniser on data\n",
        "\n",
        "# use the tokeniser to encode input sequence\n",
        "Y_encoded = tag_tokenizer.texts_to_sequences(Y)"
      ],
      "metadata": {
        "id": "y3Tqy2ERLJD6"
      },
      "execution_count": null,
      "outputs": []
    },
    {
      "cell_type": "code",
      "source": [
        "# look at first encoded data point\n",
        "print(\"** Raw data point **\", \"\\n\", \"-\"*100, \"\\n\")\n",
        "print('X: ', X[0], '\\n')\n",
        "print('Y: ', Y[0], '\\n')\n",
        "print()\n",
        "print(\"** Encoded data point **\", \"\\n\", \"-\"*100, \"\\n\")\n",
        "print('X_encoded: ', X_encoded[0], '\\n')\n",
        "print('Y_encoded: ', Y_encoded[0], '\\n')"
      ],
      "metadata": {
        "colab": {
          "base_uri": "https://localhost:8080/"
        },
        "id": "HRvM5tEqLJG2",
        "outputId": "b7040293-ede8-4b2e-947f-6698d027590e"
      },
      "execution_count": null,
      "outputs": [
        {
          "output_type": "stream",
          "name": "stdout",
          "text": [
            "** Raw data point ** \n",
            " ---------------------------------------------------------------------------------------------------- \n",
            "\n",
            "X:  ['Proces', 'privatizacije', 'na', 'Kosovu', 'pod', 'povećalom'] \n",
            "\n",
            "Y:  ['NOUN', 'NOUN', 'ADP', 'PROPN', 'ADP', 'NOUN'] \n",
            "\n",
            "\n",
            "** Encoded data point ** \n",
            " ---------------------------------------------------------------------------------------------------- \n",
            "\n",
            "X_encoded:  [510, 2356, 7, 574, 126, 26237] \n",
            "\n",
            "Y_encoded:  [1, 1, 5, 8, 5, 1] \n",
            "\n"
          ]
        }
      ]
    },
    {
      "cell_type": "markdown",
      "source": [
        "#### Postavljanje jednakih duljina rečenica ( **pad sequences** )"
      ],
      "metadata": {
        "id": "YV_nUNTaL834"
      }
    },
    {
      "cell_type": "code",
      "source": [
        "# sequences greater than 100 in length will be truncated\n",
        "MAX_SEQ_LENGTH = 100\n",
        "X_padded = pad_sequences(X_encoded, maxlen=MAX_SEQ_LENGTH, padding=\"pre\", truncating=\"post\")\n",
        "Y_padded = pad_sequences(Y_encoded, maxlen=MAX_SEQ_LENGTH, padding=\"pre\", truncating=\"post\")\n",
        "# print the first sequence\n",
        "print(X_padded[0], \"\\n\"*3)\n",
        "print('Y_padded: \\n', Y_padded[0], '\\n')"
      ],
      "metadata": {
        "colab": {
          "base_uri": "https://localhost:8080/"
        },
        "id": "KrHumJOnLJJi",
        "outputId": "0815e1db-ca47-403c-c43b-e28fa7a5be22"
      },
      "execution_count": null,
      "outputs": [
        {
          "output_type": "stream",
          "name": "stdout",
          "text": [
            "[    0     0     0     0     0     0     0     0     0     0     0     0\n",
            "     0     0     0     0     0     0     0     0     0     0     0     0\n",
            "     0     0     0     0     0     0     0     0     0     0     0     0\n",
            "     0     0     0     0     0     0     0     0     0     0     0     0\n",
            "     0     0     0     0     0     0     0     0     0     0     0     0\n",
            "     0     0     0     0     0     0     0     0     0     0     0     0\n",
            "     0     0     0     0     0     0     0     0     0     0     0     0\n",
            "     0     0     0     0     0     0     0     0     0     0   510  2356\n",
            "     7   574   126 26237] \n",
            "\n",
            "\n",
            "\n",
            "Y_padded: \n",
            " [0 0 0 0 0 0 0 0 0 0 0 0 0 0 0 0 0 0 0 0 0 0 0 0 0 0 0 0 0 0 0 0 0 0 0 0 0\n",
            " 0 0 0 0 0 0 0 0 0 0 0 0 0 0 0 0 0 0 0 0 0 0 0 0 0 0 0 0 0 0 0 0 0 0 0 0 0\n",
            " 0 0 0 0 0 0 0 0 0 0 0 0 0 0 0 0 0 0 0 0 1 1 5 8 5 1] \n",
            "\n"
          ]
        }
      ]
    },
    {
      "cell_type": "code",
      "source": [
        "# assign padded sequences to X and Y\n",
        "# X = X_padded\n",
        "# Y = Y_padded"
      ],
      "metadata": {
        "id": "fXZsaOVXK5xd"
      },
      "execution_count": null,
      "outputs": []
    },
    {
      "cell_type": "markdown",
      "source": [
        "### Vektorska reprezentacija riječi (eng. **word embeddings**)"
      ],
      "metadata": {
        "id": "QoUUfn_pMoqM"
      }
    },
    {
      "cell_type": "markdown",
      "source": [
        "#### **word2vec** model\n",
        "\n",
        "**Word2Vec** se koristi u generiranju\n",
        "vektorske reprezentacije riječi (engl. embeddings). \n",
        "\n",
        "Ovaj model se sastoji od dva pristupa:\n",
        "\n",
        "*   uzastopna vreća riječi (engl. Continuous Bag of Words CBOW) i\n",
        "*   preskok grupe znakova (engl. Skip-gram)\n",
        "\n",
        "(izvor) Vasić, D. ANALIZA I PRIMJENA METODA AUTOMATSKOG SEMANTIČKOG OZNAČAVANJA TEKSTA. https://data.fesb.unist.hr/public/news/KDI_Vasic.pdf\n",
        "\n",
        "‌"
      ],
      "metadata": {
        "id": "GlIba7NHMv_P"
      }
    },
    {
      "cell_type": "code",
      "source": [
        "model = Word2Vec(sentences=X, size=300, iter=100)"
      ],
      "metadata": {
        "id": "x_da6DW2PHtC"
      },
      "execution_count": null,
      "outputs": []
    },
    {
      "cell_type": "code",
      "source": [
        "word_vectors = model.wv"
      ],
      "metadata": {
        "id": "0WoTCCyUP8B8"
      },
      "execution_count": null,
      "outputs": []
    },
    {
      "cell_type": "code",
      "source": [
        "word_vectors.save('vectors.kv')"
      ],
      "metadata": {
        "id": "olhqCNV7QAY1"
      },
      "execution_count": null,
      "outputs": []
    },
    {
      "cell_type": "code",
      "source": [
        "word2vec = KeyedVectors.load('vectors.kv')"
      ],
      "metadata": {
        "id": "zBtN2ul3QDga"
      },
      "execution_count": null,
      "outputs": []
    },
    {
      "cell_type": "code",
      "source": [
        "# word2vec = KeyedVectors.load_word2vec_format(path, binary=True)\n",
        "\n",
        "EMBEDDING_SIZE  = 300  \n",
        "VOCABULARY_SIZE = len(word_tokenizer.word_index) + 1\n",
        "\n",
        "# create an empty embedding matix\n",
        "embedding_weights = np.zeros((VOCABULARY_SIZE, EMBEDDING_SIZE))\n",
        "\n",
        "# create a word to index dictionary mapping\n",
        "word2id = word_tokenizer.word_index\n",
        "\n",
        "# copy vectors from word2vec model to the words present in corpus\n",
        "for word, index in word2id.items():\n",
        "    try:\n",
        "        embedding_weights[index, :] = word2vec[word]\n",
        "    except KeyError:\n",
        "        pass"
      ],
      "metadata": {
        "id": "JRIN0uFOMrMS"
      },
      "execution_count": null,
      "outputs": []
    },
    {
      "cell_type": "code",
      "source": [
        "Y = to_categorical(Y_padded)"
      ],
      "metadata": {
        "id": "VevlQSIbMrQi"
      },
      "execution_count": null,
      "outputs": []
    },
    {
      "cell_type": "code",
      "source": [
        "Y.shape"
      ],
      "metadata": {
        "id": "ZkKQ2-lUMrTd",
        "colab": {
          "base_uri": "https://localhost:8080/"
        },
        "outputId": "347ffbf9-279c-4d68-a31a-871780025834"
      },
      "execution_count": null,
      "outputs": [
        {
          "output_type": "execute_result",
          "data": {
            "text/plain": [
              "(20159, 100, 18)"
            ]
          },
          "metadata": {},
          "execution_count": 74
        }
      ]
    },
    {
      "cell_type": "code",
      "source": [
        "embedding_weights.shape"
      ],
      "metadata": {
        "id": "zy-r1WAMSyVL",
        "colab": {
          "base_uri": "https://localhost:8080/"
        },
        "outputId": "7f0439d7-f404-44e1-9726-3af93340ca2e"
      },
      "execution_count": null,
      "outputs": [
        {
          "output_type": "execute_result",
          "data": {
            "text/plain": [
              "(59298, 300)"
            ]
          },
          "metadata": {},
          "execution_count": 71
        }
      ]
    },
    {
      "cell_type": "markdown",
      "source": [
        "### Podjela na skup za treniranje, validaciju i testiranje"
      ],
      "metadata": {
        "id": "kiAqgkKWWOFH"
      }
    },
    {
      "cell_type": "code",
      "source": [
        "print(X_padded.shape)\n",
        "print(Y.shape)"
      ],
      "metadata": {
        "colab": {
          "base_uri": "https://localhost:8080/"
        },
        "id": "TXKIdM-bAVEB",
        "outputId": "fe44baf2-8d07-4a10-dbb2-f116128fe9be"
      },
      "execution_count": null,
      "outputs": [
        {
          "output_type": "stream",
          "name": "stdout",
          "text": [
            "(20159, 100)\n",
            "(20159, 100, 18)\n"
          ]
        }
      ]
    },
    {
      "cell_type": "code",
      "source": [
        "# split entire data into training and testing sets\n",
        "TEST_SIZE = 0.15\n",
        "X_train, X_test, Y_train, Y_test = train_test_split(X_padded, Y, test_size=TEST_SIZE, random_state=4)"
      ],
      "metadata": {
        "id": "PqjgAOUQWNav"
      },
      "execution_count": null,
      "outputs": []
    },
    {
      "cell_type": "code",
      "source": [
        "# split training data into training and validation sets\n",
        "VALID_SIZE = 0.15\n",
        "X_train, X_validation, Y_train, Y_validation = train_test_split(X_train, Y_train, test_size=VALID_SIZE, random_state=4)"
      ],
      "metadata": {
        "id": "SG-k-n8TWNeG"
      },
      "execution_count": null,
      "outputs": []
    },
    {
      "cell_type": "code",
      "source": [
        "# print number of samples in each set\n",
        "print(\"TRAINING DATA\")\n",
        "print('Shape of input sequences: {}'.format(X_train.shape))\n",
        "print('Shape of output sequences: {}'.format(Y_train.shape))\n",
        "print(\"-\"*50)\n",
        "print(\"VALIDATION DATA\")\n",
        "print('Shape of input sequences: {}'.format(X_validation.shape))\n",
        "print('Shape of output sequences: {}'.format(Y_validation.shape))\n",
        "print(\"-\"*50)\n",
        "print(\"TESTING DATA\")\n",
        "print('Shape of input sequences: {}'.format(X_test.shape))\n",
        "print('Shape of output sequences: {}'.format(Y_test.shape))"
      ],
      "metadata": {
        "id": "RRBwq_CEWg0v",
        "colab": {
          "base_uri": "https://localhost:8080/"
        },
        "outputId": "b2b343cd-0bb3-4441-f8b1-3dc3ba096494"
      },
      "execution_count": null,
      "outputs": [
        {
          "output_type": "stream",
          "name": "stdout",
          "text": [
            "TRAINING DATA\n",
            "Shape of input sequences: (14564, 100)\n",
            "Shape of output sequences: (14564, 100, 18)\n",
            "--------------------------------------------------\n",
            "VALIDATION DATA\n",
            "Shape of input sequences: (2571, 100)\n",
            "Shape of output sequences: (2571, 100, 18)\n",
            "--------------------------------------------------\n",
            "TESTING DATA\n",
            "Shape of input sequences: (3024, 100)\n",
            "Shape of output sequences: (3024, 100, 18)\n"
          ]
        }
      ]
    },
    {
      "cell_type": "markdown",
      "source": [
        "## **Neuronske mreže**"
      ],
      "metadata": {
        "id": "LyuU4T_jamwt"
      }
    },
    {
      "cell_type": "markdown",
      "source": [
        "### **RNN** (eng. *recurrent neural network*)"
      ],
      "metadata": {
        "id": "5-gnYFukSzUU"
      }
    },
    {
      "cell_type": "markdown",
      "source": [
        "> Rekurentna (povratna) neuronska mreža (engl.\n",
        "recurrent neural network RNN) je vrsta umjetne neuronske mreže koja omogućava obradu\n",
        "nizova ili sekvenci podataka na ulazu i izlazu. Ovo znači da izlaz ne ovisi samo o trenutnom\n",
        "ulazu već i o prethodnim ulazima i izlazima što je jako čest slučaj u obradi prirodnog jezika.\n",
        "\n",
        "(izvor) Vasić, D. ANALIZA I PRIMJENA METODA AUTOMATSKOG SEMANTIČKOG OZNAČAVANJA TEKSTA. https://data.fesb.unist.hr/public/news/KDI_Vasic.pdf"
      ],
      "metadata": {
        "id": "Kamhc0sPBRhy"
      }
    },
    {
      "cell_type": "markdown",
      "source": [
        "#### RNN with arbitrarily initialized, untrainable embeddings"
      ],
      "metadata": {
        "id": "fJ866l5vS3us"
      }
    },
    {
      "cell_type": "markdown",
      "source": [
        ">  In this model, we will initialize the embedding weights arbitrarily. Further, we’ll freeze the embeddings, that is, we won’t allow the network to train them."
      ],
      "metadata": {
        "id": "Y5r3JppES62l"
      }
    },
    {
      "cell_type": "code",
      "source": [
        "# total number of tags\n",
        "NUM_CLASSES = Y.shape[2]"
      ],
      "metadata": {
        "id": "qKnRIKOhUeJo"
      },
      "execution_count": null,
      "outputs": []
    },
    {
      "cell_type": "code",
      "source": [
        "rnn_model = Sequential()"
      ],
      "metadata": {
        "id": "k6AozignS3Bj"
      },
      "execution_count": null,
      "outputs": []
    },
    {
      "cell_type": "code",
      "source": [
        "# create embedding layer — usually the first layer in text problems\n",
        "# vocabulary size — number of unique words in data\n",
        "rnn_model.add(Embedding(input_dim = VOCABULARY_SIZE, \n",
        "# length of vector with which each word is represented\n",
        " output_dim = EMBEDDING_SIZE, \n",
        "# length of input sequence\n",
        " input_length = MAX_SEQ_LENGTH, \n",
        "# False — don’t update the embeddings\n",
        " trainable = False \n",
        "))"
      ],
      "metadata": {
        "id": "7I0HDdyGSyai"
      },
      "execution_count": null,
      "outputs": []
    },
    {
      "cell_type": "code",
      "source": [
        "# add an RNN layer which contains 64 RNN cells\n",
        "# True — return whole sequence; False — return single output of the end of the sequence\n",
        "rnn_model.add(SimpleRNN(64, \n",
        " return_sequences=True\n",
        "))"
      ],
      "metadata": {
        "id": "SOKtImFZSydk"
      },
      "execution_count": null,
      "outputs": []
    },
    {
      "cell_type": "code",
      "source": [
        "# add time distributed (output at each sequence) layer\n",
        "rnn_model.add(TimeDistributed(Dense(NUM_CLASSES, activation='softmax')))"
      ],
      "metadata": {
        "id": "Yl6DfEgcTUPv"
      },
      "execution_count": null,
      "outputs": []
    },
    {
      "cell_type": "code",
      "source": [
        "#compile model\n",
        "rnn_model.compile(loss      =  'categorical_crossentropy',\n",
        "                  optimizer =  'adam',\n",
        "                  metrics   =  ['acc'])"
      ],
      "metadata": {
        "id": "LS5DzMIaTUSp"
      },
      "execution_count": null,
      "outputs": []
    },
    {
      "cell_type": "code",
      "source": [
        "# check summary of the model\n",
        "rnn_model.summary()"
      ],
      "metadata": {
        "colab": {
          "base_uri": "https://localhost:8080/"
        },
        "id": "VCHnkXC5TXJh",
        "outputId": "75d49aaa-1778-474e-b30e-00c66a7c62f3"
      },
      "execution_count": null,
      "outputs": [
        {
          "output_type": "stream",
          "name": "stdout",
          "text": [
            "Model: \"sequential\"\n",
            "_________________________________________________________________\n",
            " Layer (type)                Output Shape              Param #   \n",
            "=================================================================\n",
            " embedding (Embedding)       (None, 100, 300)          17789400  \n",
            "                                                                 \n",
            " simple_rnn (SimpleRNN)      (None, 100, 64)           23360     \n",
            "                                                                 \n",
            " time_distributed (TimeDistr  (None, 100, 18)          1170      \n",
            " ibuted)                                                         \n",
            "                                                                 \n",
            "=================================================================\n",
            "Total params: 17,813,930\n",
            "Trainable params: 24,530\n",
            "Non-trainable params: 17,789,400\n",
            "_________________________________________________________________\n"
          ]
        }
      ]
    },
    {
      "cell_type": "code",
      "source": [
        "#fit model\n",
        "rnn_training = rnn_model.fit(X_train, Y_train, batch_size=128, epochs=10, validation_data=(X_validation, Y_validation))"
      ],
      "metadata": {
        "id": "vzsUEMllUuco",
        "colab": {
          "base_uri": "https://localhost:8080/"
        },
        "outputId": "d93b4fc4-f7fb-4b47-9d20-3d584ef46eab"
      },
      "execution_count": null,
      "outputs": [
        {
          "output_type": "stream",
          "name": "stdout",
          "text": [
            "Epoch 1/10\n",
            "114/114 [==============================] - 23s 171ms/step - loss: 0.8403 - acc: 0.8079 - val_loss: 0.5547 - val_acc: 0.8412\n",
            "Epoch 2/10\n",
            "114/114 [==============================] - 24s 212ms/step - loss: 0.5386 - acc: 0.8479 - val_loss: 0.4986 - val_acc: 0.8596\n",
            "Epoch 3/10\n",
            "114/114 [==============================] - 17s 150ms/step - loss: 0.4760 - acc: 0.8618 - val_loss: 0.4503 - val_acc: 0.8664\n",
            "Epoch 4/10\n",
            "114/114 [==============================] - 16s 142ms/step - loss: 0.4324 - acc: 0.8721 - val_loss: 0.4119 - val_acc: 0.8772\n",
            "Epoch 5/10\n",
            "114/114 [==============================] - 16s 142ms/step - loss: 0.3982 - acc: 0.8796 - val_loss: 0.3818 - val_acc: 0.8847\n",
            "Epoch 6/10\n",
            "114/114 [==============================] - 17s 149ms/step - loss: 0.3709 - acc: 0.8882 - val_loss: 0.3570 - val_acc: 0.8933\n",
            "Epoch 7/10\n",
            "114/114 [==============================] - 18s 161ms/step - loss: 0.3481 - acc: 0.8945 - val_loss: 0.3362 - val_acc: 0.8983\n",
            "Epoch 8/10\n",
            "114/114 [==============================] - 16s 144ms/step - loss: 0.3292 - acc: 0.8994 - val_loss: 0.3191 - val_acc: 0.9019\n",
            "Epoch 9/10\n",
            "114/114 [==============================] - 16s 139ms/step - loss: 0.3138 - acc: 0.9030 - val_loss: 0.3050 - val_acc: 0.9057\n",
            "Epoch 10/10\n",
            "114/114 [==============================] - 16s 140ms/step - loss: 0.3006 - acc: 0.9069 - val_loss: 0.2931 - val_acc: 0.9094\n"
          ]
        }
      ]
    },
    {
      "cell_type": "code",
      "source": [
        "rnn_model.save('rnn1.h5')\n",
        "\n",
        "# model_LSTM = load_model('rnn1.h5')"
      ],
      "metadata": {
        "id": "WHXbvxcQDGS4"
      },
      "execution_count": null,
      "outputs": []
    },
    {
      "cell_type": "code",
      "source": [
        "# visualise training history\n",
        "plt.plot(rnn_training.history['acc'])\n",
        "plt.plot(rnn_training.history['val_acc'])\n",
        "plt.title('model accuracy of RNN with arbitrarily initialized, untrainable embeddings')\n",
        "plt.ylabel('accuracy')\n",
        "plt.xlabel('epoch')\n",
        "plt.legend(['train', 'test'], loc=\"lower right\")\n",
        "plt.savefig('acc-rnn1.png')\n",
        "plt.show()"
      ],
      "metadata": {
        "colab": {
          "base_uri": "https://localhost:8080/",
          "height": 295
        },
        "id": "dilggKdYXg1v",
        "outputId": "dcd5e8de-b23c-4cc9-ad02-76db36b02b95"
      },
      "execution_count": null,
      "outputs": [
        {
          "output_type": "display_data",
          "data": {
            "text/plain": [
              "<Figure size 432x288 with 1 Axes>"
            ],
            "image/png": "[encoded data removed]"
          },
          "metadata": {
            "needs_background": "light"
          }
        }
      ]
    },
    {
      "cell_type": "markdown",
      "source": [
        "#### RNN with arbitrarily initialized, trainable embeddings ( uninitialised trainable embeddings )"
      ],
      "metadata": {
        "id": "gh77-t4oS-6A"
      }
    },
    {
      "cell_type": "markdown",
      "source": [
        ">  In this model, we’ll allow the network to train the embeddings"
      ],
      "metadata": {
        "id": "kptdFskETDpN"
      }
    },
    {
      "cell_type": "code",
      "source": [
        "# create architecture\n",
        "\n",
        "rnn_model = Sequential()\n",
        "\n",
        "# create embedding layer - usually the first layer in text problems\n",
        "rnn_model.add(Embedding(input_dim     =  VOCABULARY_SIZE,         # vocabulary size - number of unique words in data\n",
        "                        output_dim    =  EMBEDDING_SIZE,          # length of vector with which each word is represented\n",
        "                        input_length  =  MAX_SEQ_LENGTH,          # length of input sequence\n",
        "                        trainable     =  True                     # True - update the embeddings while training\n",
        "))\n",
        "\n",
        "# add an RNN layer which contains 64 RNN cells\n",
        "rnn_model.add(SimpleRNN(64, \n",
        "              return_sequences=True  # True - return whole sequence; False - return single output of the end of the sequence\n",
        "))\n",
        "\n",
        "# add time distributed (output at each sequence) layer\n",
        "rnn_model.add(TimeDistributed(Dense(NUM_CLASSES, activation='softmax')))"
      ],
      "metadata": {
        "id": "bDzGakHDSyfv"
      },
      "execution_count": null,
      "outputs": []
    },
    {
      "cell_type": "code",
      "source": [
        "rnn_model.compile(loss      =  'categorical_crossentropy',\n",
        "                  optimizer =  'adam',\n",
        "                  metrics   =  ['acc'])"
      ],
      "metadata": {
        "id": "0XRZhyRQSyjK"
      },
      "execution_count": null,
      "outputs": []
    },
    {
      "cell_type": "code",
      "source": [
        "# check summary of the model\n",
        "rnn_model.summary()"
      ],
      "metadata": {
        "colab": {
          "base_uri": "https://localhost:8080/"
        },
        "id": "XOliRmdiSymG",
        "outputId": "5a5e6996-80a5-433c-960c-a5a52b3bf181"
      },
      "execution_count": null,
      "outputs": [
        {
          "output_type": "stream",
          "name": "stdout",
          "text": [
            "Model: \"sequential_1\"\n",
            "_________________________________________________________________\n",
            " Layer (type)                Output Shape              Param #   \n",
            "=================================================================\n",
            " embedding_1 (Embedding)     (None, 100, 300)          17789400  \n",
            "                                                                 \n",
            " simple_rnn_1 (SimpleRNN)    (None, 100, 64)           23360     \n",
            "                                                                 \n",
            " time_distributed_1 (TimeDis  (None, 100, 18)          1170      \n",
            " tributed)                                                       \n",
            "                                                                 \n",
            "=================================================================\n",
            "Total params: 17,813,930\n",
            "Trainable params: 17,813,930\n",
            "Non-trainable params: 0\n",
            "_________________________________________________________________\n"
          ]
        }
      ]
    },
    {
      "cell_type": "code",
      "source": [
        "rnn_training = rnn_model.fit(X_train, Y_train, batch_size=128, epochs=10, validation_data=(X_validation, Y_validation))"
      ],
      "metadata": {
        "id": "_2XLWMYSYXcV",
        "colab": {
          "base_uri": "https://localhost:8080/"
        },
        "outputId": "098acde3-64c1-446e-eb63-0cb0787197ed"
      },
      "execution_count": null,
      "outputs": [
        {
          "output_type": "stream",
          "name": "stdout",
          "text": [
            "Epoch 1/10\n",
            "114/114 [==============================] - 25s 205ms/step - loss: 0.7133 - acc: 0.8413 - val_loss: 0.3264 - val_acc: 0.9216\n",
            "Epoch 2/10\n",
            "114/114 [==============================] - 24s 213ms/step - loss: 0.2123 - acc: 0.9476 - val_loss: 0.1440 - val_acc: 0.9642\n",
            "Epoch 3/10\n",
            "114/114 [==============================] - 23s 200ms/step - loss: 0.0925 - acc: 0.9805 - val_loss: 0.0863 - val_acc: 0.9769\n",
            "Epoch 4/10\n",
            "114/114 [==============================] - 23s 200ms/step - loss: 0.0467 - acc: 0.9915 - val_loss: 0.0669 - val_acc: 0.9799\n",
            "Epoch 5/10\n",
            "114/114 [==============================] - 22s 195ms/step - loss: 0.0282 - acc: 0.9942 - val_loss: 0.0594 - val_acc: 0.9813\n",
            "Epoch 6/10\n",
            "114/114 [==============================] - 22s 191ms/step - loss: 0.0201 - acc: 0.9954 - val_loss: 0.0562 - val_acc: 0.9817\n",
            "Epoch 7/10\n",
            "114/114 [==============================] - 24s 209ms/step - loss: 0.0158 - acc: 0.9961 - val_loss: 0.0548 - val_acc: 0.9820\n",
            "Epoch 8/10\n",
            "114/114 [==============================] - 20s 176ms/step - loss: 0.0132 - acc: 0.9966 - val_loss: 0.0542 - val_acc: 0.9821\n",
            "Epoch 9/10\n",
            "114/114 [==============================] - 22s 191ms/step - loss: 0.0113 - acc: 0.9970 - val_loss: 0.0540 - val_acc: 0.9822\n",
            "Epoch 10/10\n",
            "114/114 [==============================] - 25s 221ms/step - loss: 0.0099 - acc: 0.9974 - val_loss: 0.0543 - val_acc: 0.9822\n"
          ]
        }
      ]
    },
    {
      "cell_type": "code",
      "source": [
        "rnn_model.save('rnn2.h5')\n",
        "\n",
        "# model_LSTM = load_model('rnn2.h5')"
      ],
      "metadata": {
        "id": "l-RvoGPPEf8f"
      },
      "execution_count": null,
      "outputs": []
    },
    {
      "cell_type": "code",
      "source": [
        "# visualise training history\n",
        "plt.plot(rnn_training.history['acc'])\n",
        "plt.plot(rnn_training.history['val_acc'])\n",
        "plt.title('model accuracy of RNN with arbitrarily initialized, trainable embeddings')\n",
        "plt.ylabel('accuracy')\n",
        "plt.xlabel('epoch')\n",
        "plt.legend(['train', 'test'], loc=\"lower right\")\n",
        "plt.savefig('acc-rnn2.png')\n",
        "plt.show()"
      ],
      "metadata": {
        "colab": {
          "base_uri": "https://localhost:8080/",
          "height": 295
        },
        "id": "QFe2v-2HYXfT",
        "outputId": "cc56cda4-aca1-4a53-fb4a-88d653d43ae1"
      },
      "execution_count": null,
      "outputs": [
        {
          "output_type": "display_data",
          "data": {
            "text/plain": [
              "<Figure size 432x288 with 1 Axes>"
            ],
            "image/png": "[encoded data removed]"
          },
          "metadata": {
            "needs_background": "light"
          }
        }
      ]
    },
    {
      "cell_type": "markdown",
      "source": [
        "#### RNN with trainable word2vec embeddings ( using pre-trained embedding weights )"
      ],
      "metadata": {
        "id": "DwoKHtd1THNU"
      }
    },
    {
      "cell_type": "markdown",
      "source": [
        ">  In this experiment, we’ll use word2vec word embeddings and also allow the network to train them further."
      ],
      "metadata": {
        "id": "5Lk2T3MlTKEL"
      }
    },
    {
      "cell_type": "code",
      "source": [
        "rnn_model = Sequential()\n",
        "\n",
        "# create embedding layer - usually the first layer in text problems\n",
        "rnn_model.add(Embedding(input_dim     =  VOCABULARY_SIZE,         # vocabulary size - number of unique words in data\n",
        "                        output_dim    =  EMBEDDING_SIZE,          # length of vector with which each word is represented\n",
        "                        input_length  =  MAX_SEQ_LENGTH,          # length of input sequence\n",
        "                        weights       = [embedding_weights],      # word embedding matrix\n",
        "                        trainable     =  True                     # True - update the embeddings while training\n",
        "))\n",
        "\n",
        "# add an RNN layer which contains 64 RNN cells\n",
        "rnn_model.add(SimpleRNN(64, \n",
        "              return_sequences=True  # True - return whole sequence; False - return single output of the end of the sequence\n",
        "))\n",
        "\n",
        "# add time distributed (output at each sequence) layer\n",
        "rnn_model.add(TimeDistributed(Dense(NUM_CLASSES, activation='softmax')))"
      ],
      "metadata": {
        "id": "TMUQSWY0TGjw"
      },
      "execution_count": null,
      "outputs": []
    },
    {
      "cell_type": "code",
      "source": [
        "rnn_model.compile(loss      =  'categorical_crossentropy',\n",
        "                  optimizer =  'adam',\n",
        "                  metrics   =  ['acc'])"
      ],
      "metadata": {
        "id": "vXZwjkivTGpW"
      },
      "execution_count": null,
      "outputs": []
    },
    {
      "cell_type": "code",
      "source": [
        "rnn_model.summary()"
      ],
      "metadata": {
        "colab": {
          "base_uri": "https://localhost:8080/"
        },
        "id": "tveQAxIhTGsR",
        "outputId": "1b80313c-2b04-4628-a590-e00b3aa0dbbe"
      },
      "execution_count": null,
      "outputs": [
        {
          "output_type": "stream",
          "name": "stdout",
          "text": [
            "Model: \"sequential_2\"\n",
            "_________________________________________________________________\n",
            " Layer (type)                Output Shape              Param #   \n",
            "=================================================================\n",
            " embedding_2 (Embedding)     (None, 100, 300)          17789400  \n",
            "                                                                 \n",
            " simple_rnn_2 (SimpleRNN)    (None, 100, 64)           23360     \n",
            "                                                                 \n",
            " time_distributed_2 (TimeDis  (None, 100, 18)          1170      \n",
            " tributed)                                                       \n",
            "                                                                 \n",
            "=================================================================\n",
            "Total params: 17,813,930\n",
            "Trainable params: 17,813,930\n",
            "Non-trainable params: 0\n",
            "_________________________________________________________________\n"
          ]
        }
      ]
    },
    {
      "cell_type": "code",
      "source": [
        "rnn_training = rnn_model.fit(X_train, Y_train, batch_size=128, epochs=10, validation_data=(X_validation, Y_validation))"
      ],
      "metadata": {
        "id": "8wH0DBW2TGvF",
        "colab": {
          "base_uri": "https://localhost:8080/"
        },
        "outputId": "63f98dd2-e9fe-4924-ea36-0b739f17904b"
      },
      "execution_count": null,
      "outputs": [
        {
          "output_type": "stream",
          "name": "stdout",
          "text": [
            "Epoch 1/10\n",
            "114/114 [==============================] - 23s 192ms/step - loss: 0.5691 - acc: 0.9057 - val_loss: 0.2249 - val_acc: 0.9445\n",
            "Epoch 2/10\n",
            "114/114 [==============================] - 21s 188ms/step - loss: 0.1633 - acc: 0.9580 - val_loss: 0.1287 - val_acc: 0.9643\n",
            "Epoch 3/10\n",
            "114/114 [==============================] - 20s 177ms/step - loss: 0.0876 - acc: 0.9793 - val_loss: 0.0851 - val_acc: 0.9757\n",
            "Epoch 4/10\n",
            "114/114 [==============================] - 21s 181ms/step - loss: 0.0466 - acc: 0.9899 - val_loss: 0.0665 - val_acc: 0.9796\n",
            "Epoch 5/10\n",
            "114/114 [==============================] - 21s 182ms/step - loss: 0.0288 - acc: 0.9933 - val_loss: 0.0599 - val_acc: 0.9811\n",
            "Epoch 6/10\n",
            "114/114 [==============================] - 20s 178ms/step - loss: 0.0215 - acc: 0.9945 - val_loss: 0.0572 - val_acc: 0.9816\n",
            "Epoch 7/10\n",
            "114/114 [==============================] - 20s 177ms/step - loss: 0.0176 - acc: 0.9951 - val_loss: 0.0557 - val_acc: 0.9820\n",
            "Epoch 8/10\n",
            "114/114 [==============================] - 22s 194ms/step - loss: 0.0153 - acc: 0.9955 - val_loss: 0.0550 - val_acc: 0.9822\n",
            "Epoch 9/10\n",
            "114/114 [==============================] - 21s 181ms/step - loss: 0.0137 - acc: 0.9958 - val_loss: 0.0548 - val_acc: 0.9823\n",
            "Epoch 10/10\n",
            "114/114 [==============================] - 21s 181ms/step - loss: 0.0125 - acc: 0.9961 - val_loss: 0.0546 - val_acc: 0.9825\n"
          ]
        }
      ]
    },
    {
      "cell_type": "code",
      "source": [
        "rnn_model.save('rnn3.h5')\n",
        "\n",
        "# model_LSTM = load_model('rnn3.h5')"
      ],
      "metadata": {
        "id": "9N5AOPaMFEU0"
      },
      "execution_count": null,
      "outputs": []
    },
    {
      "cell_type": "code",
      "source": [
        "# visualise training history\n",
        "plt.plot(rnn_training.history['acc'])\n",
        "plt.plot(rnn_training.history['val_acc'])\n",
        "plt.title('model accuracy of RNN with trainable word2vec embeddings')\n",
        "plt.ylabel('accuracy')\n",
        "plt.xlabel('epoch')\n",
        "plt.legend(['train', 'test'], loc=\"lower right\")\n",
        "plt.savefig('acc-rnn3.png')\n",
        "plt.show()"
      ],
      "metadata": {
        "colab": {
          "base_uri": "https://localhost:8080/",
          "height": 295
        },
        "id": "EGXbmi3QYJX6",
        "outputId": "676cbd66-e8cd-448a-b791-bf7e46f32fbe"
      },
      "execution_count": null,
      "outputs": [
        {
          "output_type": "display_data",
          "data": {
            "text/plain": [
              "<Figure size 432x288 with 1 Axes>"
            ],
            "image/png": "[encoded data removed]"
          },
          "metadata": {
            "needs_background": "light"
          }
        }
      ]
    },
    {
      "cell_type": "markdown",
      "source": [
        "### **LSTM** (eng. *long short-term memory*)"
      ],
      "metadata": {
        "id": "H9uDIeI6YjQ-"
      }
    },
    {
      "cell_type": "markdown",
      "source": [
        "> Duga kratkoročna memorija je vrsta RNN arhitekture koja je oblikovana kako bi\n",
        "modelirala vremenske nizove i njihove dugoročne ovisnosti. LSTM ne koristi klasične\n",
        "prijenosne funkcije već implementira tzv. LSTM blokove koji se sastoje od nekoliko jedinica.\n",
        "Ovakvi blokovi se sastoje od troja ili četvora vrata koja kontroliraju tok informacija.\n",
        "\n",
        "> LSTM mreže se treniraju algoritmom vremenske propagacije unazad (engl.\n",
        "Backpropagation through time BPTT\n",
        "\n",
        "(izvor) Vasić, D. ANALIZA I PRIMJENA METODA AUTOMATSKOG SEMANTIČKOG OZNAČAVANJA TEKSTA. https://data.fesb.unist.hr/public/news/KDI_Vasic.pdf"
      ],
      "metadata": {
        "id": "nHJrBya9GXjb"
      }
    },
    {
      "cell_type": "code",
      "source": [
        "# create architecture\n",
        "\n",
        "lstm_model = Sequential()\n",
        "lstm_model.add(Embedding(input_dim     = VOCABULARY_SIZE,         # vocabulary size - number of unique words in data\n",
        "                         output_dim    = EMBEDDING_SIZE,          # length of vector with which each word is represented\n",
        "                         input_length  = MAX_SEQ_LENGTH,          # length of input sequence\n",
        "                         weights       = [embedding_weights],     # word embedding matrix\n",
        "                         trainable     = True                     # True - update embeddings_weight matrix\n",
        "))\n",
        "lstm_model.add(LSTM(64, return_sequences=True))\n",
        "lstm_model.add(TimeDistributed(Dense(NUM_CLASSES, activation='softmax')))"
      ],
      "metadata": {
        "id": "f63UeotJYkty"
      },
      "execution_count": null,
      "outputs": []
    },
    {
      "cell_type": "code",
      "source": [
        "# compile\n",
        "lstm_model.compile(loss      =  'categorical_crossentropy',\n",
        "                   optimizer =  'adam',\n",
        "                   metrics   =  ['acc'])"
      ],
      "metadata": {
        "id": "QxdThnlwYk37"
      },
      "execution_count": null,
      "outputs": []
    },
    {
      "cell_type": "code",
      "source": [
        "# check summary of the model\n",
        "lstm_model.summary()"
      ],
      "metadata": {
        "id": "QxrE1f-vYlAa",
        "colab": {
          "base_uri": "https://localhost:8080/"
        },
        "outputId": "51332b36-4cb9-443e-c1ef-bf8ccef966f8"
      },
      "execution_count": null,
      "outputs": [
        {
          "output_type": "stream",
          "name": "stdout",
          "text": [
            "Model: \"sequential_3\"\n",
            "_________________________________________________________________\n",
            " Layer (type)                Output Shape              Param #   \n",
            "=================================================================\n",
            " embedding_3 (Embedding)     (None, 100, 300)          17789400  \n",
            "                                                                 \n",
            " lstm (LSTM)                 (None, 100, 64)           93440     \n",
            "                                                                 \n",
            " time_distributed_3 (TimeDis  (None, 100, 18)          1170      \n",
            " tributed)                                                       \n",
            "                                                                 \n",
            "=================================================================\n",
            "Total params: 17,884,010\n",
            "Trainable params: 17,884,010\n",
            "Non-trainable params: 0\n",
            "_________________________________________________________________\n"
          ]
        }
      ]
    },
    {
      "cell_type": "code",
      "source": [
        "# fit model\n",
        "lstm_training = lstm_model.fit(X_train, Y_train, batch_size=128, epochs=10, validation_data=(X_validation, Y_validation))"
      ],
      "metadata": {
        "id": "yxSKhg1TYlFR",
        "colab": {
          "base_uri": "https://localhost:8080/"
        },
        "outputId": "b6daa4b7-7da2-4987-abc0-f5afaf2bef3c"
      },
      "execution_count": null,
      "outputs": [
        {
          "output_type": "stream",
          "name": "stdout",
          "text": [
            "Epoch 1/10\n",
            "114/114 [==============================] - 9s 43ms/step - loss: 0.6768 - acc: 0.8994 - val_loss: 0.2762 - val_acc: 0.9340\n",
            "Epoch 2/10\n",
            "114/114 [==============================] - 4s 38ms/step - loss: 0.2127 - acc: 0.9434 - val_loss: 0.1687 - val_acc: 0.9508\n",
            "Epoch 3/10\n",
            "114/114 [==============================] - 4s 37ms/step - loss: 0.1331 - acc: 0.9618 - val_loss: 0.1138 - val_acc: 0.9675\n",
            "Epoch 4/10\n",
            "114/114 [==============================] - 5s 40ms/step - loss: 0.0786 - acc: 0.9830 - val_loss: 0.0778 - val_acc: 0.9775\n",
            "Epoch 5/10\n",
            "114/114 [==============================] - 5s 41ms/step - loss: 0.0446 - acc: 0.9905 - val_loss: 0.0629 - val_acc: 0.9800\n",
            "Epoch 6/10\n",
            "114/114 [==============================] - 5s 40ms/step - loss: 0.0300 - acc: 0.9927 - val_loss: 0.0573 - val_acc: 0.9812\n",
            "Epoch 7/10\n",
            "114/114 [==============================] - 4s 38ms/step - loss: 0.0233 - acc: 0.9942 - val_loss: 0.0545 - val_acc: 0.9817\n",
            "Epoch 8/10\n",
            "114/114 [==============================] - 4s 37ms/step - loss: 0.0196 - acc: 0.9947 - val_loss: 0.0529 - val_acc: 0.9822\n",
            "Epoch 9/10\n",
            "114/114 [==============================] - 5s 42ms/step - loss: 0.0172 - acc: 0.9951 - val_loss: 0.0519 - val_acc: 0.9823\n",
            "Epoch 10/10\n",
            "114/114 [==============================] - 5s 40ms/step - loss: 0.0155 - acc: 0.9954 - val_loss: 0.0514 - val_acc: 0.9821\n"
          ]
        }
      ]
    },
    {
      "cell_type": "code",
      "source": [
        "lstm_model.save('lstm.h5')\n",
        "\n",
        "# model_LSTM = load_model('lstm.h5')"
      ],
      "metadata": {
        "id": "F46kWgCNHN68"
      },
      "execution_count": null,
      "outputs": []
    },
    {
      "cell_type": "code",
      "source": [
        "# visualise training history\n",
        "plt.plot(lstm_training.history['acc'])\n",
        "plt.plot(lstm_training.history['val_acc'])\n",
        "plt.title('model accuracy of LSTM model')\n",
        "plt.ylabel('accuracy')\n",
        "plt.xlabel('epoch')\n",
        "plt.legend(['train', 'test'], loc=\"lower right\")\n",
        "plt.savefig('acc-lstm.png')\n",
        "plt.show()"
      ],
      "metadata": {
        "id": "dPta54SdYu1w",
        "colab": {
          "base_uri": "https://localhost:8080/",
          "height": 295
        },
        "outputId": "361484f0-52a4-4658-c492-4dc46dfa1043"
      },
      "execution_count": null,
      "outputs": [
        {
          "output_type": "display_data",
          "data": {
            "text/plain": [
              "<Figure size 432x288 with 1 Axes>"
            ],
            "image/png": "[encoded data removed]"
          },
          "metadata": {
            "needs_background": "light"
          }
        }
      ]
    },
    {
      "cell_type": "markdown",
      "source": [
        "### **GRU** (engl. *gated recurrent unit*)"
      ],
      "metadata": {
        "id": "Z7lg-yucYwXA"
      }
    },
    {
      "cell_type": "markdown",
      "source": [
        "> Još jedan tip rekurentne neuronske mreže je vrata s ponavljajućom jedinicom (engl. Gated\n",
        "recurrent unit GRU). \n",
        "\n",
        "> GRU daje jako dobre rezultate u modeliranju govornog signala i jako\n",
        "je slična LSTM arhitekturi, pokazuje rezultate jako slične LSTM no učinkovitiji je nad manjim\n",
        "skupovima podataka. GRU ima manje parametara od LSTM mreže jer ne sadrže izlazna vrata.\n",
        "\n",
        "(izvor) Vasić, D. ANALIZA I PRIMJENA METODA AUTOMATSKOG SEMANTIČKOG OZNAČAVANJA TEKSTA. https://data.fesb.unist.hr/public/news/KDI_Vasic.pdf"
      ],
      "metadata": {
        "id": "PX_Wn6DYITFF"
      }
    },
    {
      "cell_type": "code",
      "source": [
        "# create architecture\n",
        "\n",
        "gru_model = Sequential()\n",
        "gru_model.add(Embedding(input_dim     = VOCABULARY_SIZE,\n",
        "                        output_dim    = EMBEDDING_SIZE,\n",
        "                        input_length  = MAX_SEQ_LENGTH,\n",
        "                        weights       = [embedding_weights],\n",
        "                        trainable     = True\n",
        "))\n",
        "gru_model.add(GRU(64, return_sequences=True))\n",
        "gru_model.add(TimeDistributed(Dense(NUM_CLASSES, activation='softmax')))"
      ],
      "metadata": {
        "id": "qtrOANULYu-H"
      },
      "execution_count": null,
      "outputs": []
    },
    {
      "cell_type": "code",
      "source": [
        "gru_model.compile(loss='categorical_crossentropy',\n",
        "              optimizer='adam',\n",
        "              metrics=['acc'])"
      ],
      "metadata": {
        "id": "WPxC9JJFYzrw"
      },
      "execution_count": null,
      "outputs": []
    },
    {
      "cell_type": "code",
      "source": [
        "# check summary of model\n",
        "gru_model.summary()"
      ],
      "metadata": {
        "id": "TYW3sw1LYzwe",
        "colab": {
          "base_uri": "https://localhost:8080/"
        },
        "outputId": "c1b22b50-1f71-4d75-ae8d-2eec246e9b76"
      },
      "execution_count": null,
      "outputs": [
        {
          "output_type": "stream",
          "name": "stdout",
          "text": [
            "Model: \"sequential_5\"\n",
            "_________________________________________________________________\n",
            " Layer (type)                Output Shape              Param #   \n",
            "=================================================================\n",
            " embedding_5 (Embedding)     (None, 100, 300)          17789400  \n",
            "                                                                 \n",
            " gru (GRU)                   (None, 100, 64)           70272     \n",
            "                                                                 \n",
            " time_distributed_4 (TimeDis  (None, 100, 18)          1170      \n",
            " tributed)                                                       \n",
            "                                                                 \n",
            "=================================================================\n",
            "Total params: 17,860,842\n",
            "Trainable params: 17,860,842\n",
            "Non-trainable params: 0\n",
            "_________________________________________________________________\n"
          ]
        }
      ]
    },
    {
      "cell_type": "code",
      "source": [
        "gru_training = gru_model.fit(X_train, Y_train, batch_size=128, epochs=10, validation_data=(X_validation, Y_validation))"
      ],
      "metadata": {
        "id": "_E_rFjnMYzzE",
        "colab": {
          "base_uri": "https://localhost:8080/"
        },
        "outputId": "1fc26637-7ab8-444d-a433-38e8b63b70e1"
      },
      "execution_count": null,
      "outputs": [
        {
          "output_type": "stream",
          "name": "stdout",
          "text": [
            "Epoch 1/10\n",
            "114/114 [==============================] - 7s 44ms/step - loss: 0.6551 - acc: 0.9031 - val_loss: 0.2105 - val_acc: 0.9429\n",
            "Epoch 2/10\n",
            "114/114 [==============================] - 5s 41ms/step - loss: 0.1554 - acc: 0.9559 - val_loss: 0.1220 - val_acc: 0.9645\n",
            "Epoch 3/10\n",
            "114/114 [==============================] - 5s 42ms/step - loss: 0.0834 - acc: 0.9810 - val_loss: 0.0782 - val_acc: 0.9768\n",
            "Epoch 4/10\n",
            "114/114 [==============================] - 5s 42ms/step - loss: 0.0421 - acc: 0.9911 - val_loss: 0.0609 - val_acc: 0.9803\n",
            "Epoch 5/10\n",
            "114/114 [==============================] - 5s 41ms/step - loss: 0.0259 - acc: 0.9937 - val_loss: 0.0550 - val_acc: 0.9817\n",
            "Epoch 6/10\n",
            "114/114 [==============================] - 4s 39ms/step - loss: 0.0198 - acc: 0.9947 - val_loss: 0.0526 - val_acc: 0.9820\n",
            "Epoch 7/10\n",
            "114/114 [==============================] - 4s 37ms/step - loss: 0.0167 - acc: 0.9950 - val_loss: 0.0513 - val_acc: 0.9822\n",
            "Epoch 8/10\n",
            "114/114 [==============================] - 4s 37ms/step - loss: 0.0148 - acc: 0.9954 - val_loss: 0.0506 - val_acc: 0.9823\n",
            "Epoch 9/10\n",
            "114/114 [==============================] - 4s 37ms/step - loss: 0.0135 - acc: 0.9956 - val_loss: 0.0504 - val_acc: 0.9825\n",
            "Epoch 10/10\n",
            "114/114 [==============================] - 4s 37ms/step - loss: 0.0124 - acc: 0.9959 - val_loss: 0.0502 - val_acc: 0.9825\n"
          ]
        }
      ]
    },
    {
      "cell_type": "code",
      "source": [
        "gru_model.save('gru.h5')\n",
        "\n",
        "# model_LSTM = load_model('gru.h5')"
      ],
      "metadata": {
        "id": "ox0-MtclHjgA"
      },
      "execution_count": null,
      "outputs": []
    },
    {
      "cell_type": "code",
      "source": [
        "# visualise training history\n",
        "plt.plot(gru_training.history['acc'])\n",
        "plt.plot(gru_training.history['val_acc'])\n",
        "plt.title('model accuracy of GRU model')\n",
        "plt.ylabel('accuracy')\n",
        "plt.xlabel('epoch')\n",
        "plt.legend(['train', 'test'], loc=\"lower right\")\n",
        "plt.savefig(\"acc-gru.png\")\n",
        "plt.show()"
      ],
      "metadata": {
        "id": "G-CflHygY48E",
        "colab": {
          "base_uri": "https://localhost:8080/",
          "height": 295
        },
        "outputId": "362d7647-9f5d-409a-deaf-79d169d5ea26"
      },
      "execution_count": null,
      "outputs": [
        {
          "output_type": "display_data",
          "data": {
            "text/plain": [
              "<Figure size 432x288 with 1 Axes>"
            ],
            "image/png": "[encoded data removed]"
          },
          "metadata": {
            "needs_background": "light"
          }
        }
      ]
    },
    {
      "cell_type": "markdown",
      "source": [
        "### **Bidirectional LSTM**"
      ],
      "metadata": {
        "id": "3PjjH51fY7Vl"
      }
    },
    {
      "cell_type": "code",
      "source": [
        "# create architecture\n",
        "\n",
        "bidirect_model = Sequential()\n",
        "bidirect_model.add(Embedding(input_dim     = VOCABULARY_SIZE,\n",
        "                             output_dim    = EMBEDDING_SIZE,\n",
        "                             input_length  = MAX_SEQ_LENGTH,\n",
        "                             weights       = [embedding_weights],\n",
        "                             trainable     = True\n",
        "))\n",
        "bidirect_model.add(Bidirectional(LSTM(64, return_sequences=True)))\n",
        "bidirect_model.add(TimeDistributed(Dense(NUM_CLASSES, activation='softmax')))   "
      ],
      "metadata": {
        "id": "LTrARRO4Y8EI"
      },
      "execution_count": null,
      "outputs": []
    },
    {
      "cell_type": "code",
      "source": [
        "bidirect_model.compile(loss='categorical_crossentropy',\n",
        "              optimizer='adam',\n",
        "              metrics=['acc'])"
      ],
      "metadata": {
        "id": "bkYbXxpPY8G8"
      },
      "execution_count": null,
      "outputs": []
    },
    {
      "cell_type": "code",
      "source": [
        "# check summary of model\n",
        "bidirect_model.summary()"
      ],
      "metadata": {
        "id": "ApCbHLEdY8Jy",
        "colab": {
          "base_uri": "https://localhost:8080/"
        },
        "outputId": "8c22f679-4d8e-4109-8b64-49711dcdf3e6"
      },
      "execution_count": null,
      "outputs": [
        {
          "output_type": "stream",
          "name": "stdout",
          "text": [
            "Model: \"sequential_6\"\n",
            "_________________________________________________________________\n",
            " Layer (type)                Output Shape              Param #   \n",
            "=================================================================\n",
            " embedding_6 (Embedding)     (None, 100, 300)          17789400  \n",
            "                                                                 \n",
            " bidirectional (Bidirectiona  (None, 100, 128)         186880    \n",
            " l)                                                              \n",
            "                                                                 \n",
            " time_distributed_5 (TimeDis  (None, 100, 18)          2322      \n",
            " tributed)                                                       \n",
            "                                                                 \n",
            "=================================================================\n",
            "Total params: 17,978,602\n",
            "Trainable params: 17,978,602\n",
            "Non-trainable params: 0\n",
            "_________________________________________________________________\n"
          ]
        }
      ]
    },
    {
      "cell_type": "code",
      "source": [
        "bidirect_training = bidirect_model.fit(X_train, Y_train, batch_size=128, epochs=10, validation_data=(X_validation, Y_validation))"
      ],
      "metadata": {
        "id": "-7m2waTbZBFs",
        "colab": {
          "base_uri": "https://localhost:8080/"
        },
        "outputId": "4f66872d-6828-4f06-ba00-12217c474461"
      },
      "execution_count": null,
      "outputs": [
        {
          "output_type": "stream",
          "name": "stdout",
          "text": [
            "Epoch 1/10\n",
            "114/114 [==============================] - 13s 75ms/step - loss: 0.5384 - acc: 0.9054 - val_loss: 0.1821 - val_acc: 0.9442\n",
            "Epoch 2/10\n",
            "114/114 [==============================] - 7s 63ms/step - loss: 0.1442 - acc: 0.9550 - val_loss: 0.1180 - val_acc: 0.9629\n",
            "Epoch 3/10\n",
            "114/114 [==============================] - 7s 64ms/step - loss: 0.0870 - acc: 0.9755 - val_loss: 0.0778 - val_acc: 0.9770\n",
            "Epoch 4/10\n",
            "114/114 [==============================] - 7s 63ms/step - loss: 0.0458 - acc: 0.9892 - val_loss: 0.0578 - val_acc: 0.9826\n",
            "Epoch 5/10\n",
            "114/114 [==============================] - 7s 62ms/step - loss: 0.0268 - acc: 0.9935 - val_loss: 0.0509 - val_acc: 0.9843\n",
            "Epoch 6/10\n",
            "114/114 [==============================] - 7s 64ms/step - loss: 0.0192 - acc: 0.9950 - val_loss: 0.0479 - val_acc: 0.9848\n",
            "Epoch 7/10\n",
            "114/114 [==============================] - 7s 63ms/step - loss: 0.0153 - acc: 0.9958 - val_loss: 0.0462 - val_acc: 0.9853\n",
            "Epoch 8/10\n",
            "114/114 [==============================] - 7s 63ms/step - loss: 0.0128 - acc: 0.9964 - val_loss: 0.0455 - val_acc: 0.9854\n",
            "Epoch 9/10\n",
            "114/114 [==============================] - 7s 62ms/step - loss: 0.0111 - acc: 0.9967 - val_loss: 0.0455 - val_acc: 0.9856\n",
            "Epoch 10/10\n",
            "114/114 [==============================] - 7s 61ms/step - loss: 0.0097 - acc: 0.9971 - val_loss: 0.0455 - val_acc: 0.9855\n"
          ]
        }
      ]
    },
    {
      "cell_type": "code",
      "source": [
        "bidirect_model.save('bidir_lstm.h5')\n",
        "\n",
        "# model = load_model('bidir_lstm.h5')"
      ],
      "metadata": {
        "id": "tuylOL7TJID2"
      },
      "execution_count": null,
      "outputs": []
    },
    {
      "cell_type": "code",
      "source": [
        "# visualise training history\n",
        "plt.plot(bidirect_training.history['acc'])\n",
        "plt.plot(bidirect_training.history['val_acc'])\n",
        "plt.title('model accuracy of bidirectional LSTM')\n",
        "plt.ylabel('accuracy')\n",
        "plt.xlabel('epoch')\n",
        "plt.legend(['train', 'test'], loc=\"lower right\")\n",
        "plt.savefig(\"acc-bidir-lstm.png\")\n",
        "plt.show()"
      ],
      "metadata": {
        "id": "lAbaGkL_ZBJQ",
        "colab": {
          "base_uri": "https://localhost:8080/",
          "height": 295
        },
        "outputId": "e3d20b63-588f-4af3-b5b5-283c419d3b51"
      },
      "execution_count": null,
      "outputs": [
        {
          "output_type": "display_data",
          "data": {
            "text/plain": [
              "<Figure size 432x288 with 1 Axes>"
            ],
            "image/png": "[encoded data removed]"
          },
          "metadata": {
            "needs_background": "light"
          }
        }
      ]
    },
    {
      "cell_type": "markdown",
      "source": [
        "## **Evaluacija različitih arhitektura neuronskih mreža**"
      ],
      "metadata": {
        "id": "eK0lGhfKZGDU"
      }
    },
    {
      "cell_type": "code",
      "source": [
        "loss, accuracy = rnn_model.evaluate(X_test, Y_test, verbose = 1)\n",
        "print(\"Loss: {0},\\nAccuracy: {1}\".format(loss, accuracy))"
      ],
      "metadata": {
        "colab": {
          "base_uri": "https://localhost:8080/"
        },
        "id": "Uh6-Iv3xZFjB",
        "outputId": "388190e5-0e78-4eb5-a6ac-bc5a31a064bf"
      },
      "execution_count": null,
      "outputs": [
        {
          "output_type": "stream",
          "name": "stdout",
          "text": [
            "95/95 [==============================] - 1s 16ms/step - loss: 0.0562 - acc: 0.9819\n",
            "Loss: 0.05624203011393547,\n",
            "Accuracy: 0.9819213151931763\n"
          ]
        }
      ]
    },
    {
      "cell_type": "code",
      "source": [
        "loss, accuracy = lstm_model.evaluate(X_test, Y_test, verbose = 1)\n",
        "print(\"Loss: {0},\\nAccuracy: {1}\".format(loss, accuracy))"
      ],
      "metadata": {
        "id": "FJHMRj3yZfyg",
        "colab": {
          "base_uri": "https://localhost:8080/"
        },
        "outputId": "3c0f067d-4f58-4a3d-9552-992b651e779e"
      },
      "execution_count": null,
      "outputs": [
        {
          "output_type": "stream",
          "name": "stdout",
          "text": [
            "95/95 [==============================] - 1s 9ms/step - loss: 0.0525 - acc: 0.9819\n",
            "Loss: 0.05253607779741287,\n",
            "Accuracy: 0.9818551540374756\n"
          ]
        }
      ]
    },
    {
      "cell_type": "code",
      "source": [
        "loss, accuracy = gru_model.evaluate(X_test, Y_test, verbose = 1)\n",
        "print(\"Loss: {0},\\nAccuracy: {1}\".format(loss, accuracy))"
      ],
      "metadata": {
        "id": "_rP68kxbZf5Q",
        "colab": {
          "base_uri": "https://localhost:8080/"
        },
        "outputId": "f6127c58-1075-48a7-9cda-6e36f5ee0e48"
      },
      "execution_count": null,
      "outputs": [
        {
          "output_type": "stream",
          "name": "stdout",
          "text": [
            "95/95 [==============================] - 1s 10ms/step - loss: 0.0516 - acc: 0.9824\n",
            "Loss: 0.05155055597424507,\n",
            "Accuracy: 0.9823545217514038\n"
          ]
        }
      ]
    },
    {
      "cell_type": "code",
      "source": [
        "loss, accuracy = bidirect_model.evaluate(X_test, Y_test, verbose = 1)\n",
        "print(\"Loss: {0},\\nAccuracy: {1}\".format(loss, accuracy))"
      ],
      "metadata": {
        "id": "CGNaL9B1Zmp0",
        "colab": {
          "base_uri": "https://localhost:8080/"
        },
        "outputId": "92a33735-f303-4d32-8443-c0f75d6ceab2"
      },
      "execution_count": null,
      "outputs": [
        {
          "output_type": "stream",
          "name": "stdout",
          "text": [
            "95/95 [==============================] - 2s 18ms/step - loss: 0.0467 - acc: 0.9853\n",
            "Loss: 0.046735409647226334,\n",
            "Accuracy: 0.9852777719497681\n"
          ]
        }
      ]
    },
    {
      "cell_type": "markdown",
      "source": [
        "# Izvorni članak:\n",
        "\n",
        " > Dayanand, Tanya. ***POS Tagging Using RNN***.  https://www.kaggle.com/code/tanyadayanand/pos-tagging-using-rnn/notebook\n",
        "\n",
        "‌"
      ],
      "metadata": {
        "id": "ZDEjjq6r-If2"
      }
    }
  ]
}